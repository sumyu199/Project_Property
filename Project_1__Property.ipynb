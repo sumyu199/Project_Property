{
  "nbformat": 4,
  "nbformat_minor": 0,
  "metadata": {
    "colab": {
      "name": "Project 1 _Property",
      "provenance": [],
      "collapsed_sections": [],
      "authorship_tag": "ABX9TyNGpYEZoF2zFdLsbdnq66Kn",
      "include_colab_link": true
    },
    "kernelspec": {
      "name": "python3",
      "display_name": "Python 3"
    },
    "language_info": {
      "name": "python"
    }
  },
  "cells": [
    {
      "cell_type": "markdown",
      "metadata": {
        "id": "view-in-github",
        "colab_type": "text"
      },
      "source": [
        "<a href=\"https://colab.research.google.com/github/sumyu199/Project_Property/blob/main/Project_1__Property.ipynb\" target=\"_parent\"><img src=\"https://colab.research.google.com/assets/colab-badge.svg\" alt=\"Open In Colab\"/></a>"
      ]
    },
    {
      "cell_type": "code",
      "metadata": {
        "id": "pVG1Dod80lgh"
      },
      "source": [
        "import pandas as pd \n",
        "from google.colab import files\n",
        "import io\n",
        "import numpy as np\n"
      ],
      "execution_count": 1,
      "outputs": []
    },
    {
      "cell_type": "markdown",
      "metadata": {
        "id": "Kt5yMaXDPI0j"
      },
      "source": [
        "The following data is scraped from Century 21 Global\n",
        "https://www.century21global.com/"
      ]
    },
    {
      "cell_type": "code",
      "metadata": {
        "colab": {
          "resources": {
            "http://localhost:8080/nbextensions/google.colab/files.js": {
              "data": "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",
              "ok": true,
              "headers": [
                [
                  "content-type",
                  "application/javascript"
                ]
              ],
              "status": 200,
              "status_text": ""
            }
          },
          "base_uri": "https://localhost:8080/",
          "height": 73
        },
        "id": "zwDcwfXvRZHv",
        "outputId": "afdad511-8add-49ec-ec02-90bdfbe00fc0"
      },
      "source": [
        "uploaded = files.upload()"
      ],
      "execution_count": 3,
      "outputs": [
        {
          "output_type": "display_data",
          "data": {
            "text/html": [
              "\n",
              "     <input type=\"file\" id=\"files-5c4fe6fd-c01e-4c75-9895-4a0dcfd8015e\" name=\"files[]\" multiple disabled\n",
              "        style=\"border:none\" />\n",
              "     <output id=\"result-5c4fe6fd-c01e-4c75-9895-4a0dcfd8015e\">\n",
              "      Upload widget is only available when the cell has been executed in the\n",
              "      current browser session. Please rerun this cell to enable.\n",
              "      </output>\n",
              "      <script src=\"/nbextensions/google.colab/files.js\"></script> "
            ],
            "text/plain": [
              "<IPython.core.display.HTML object>"
            ]
          },
          "metadata": {}
        },
        {
          "output_type": "stream",
          "name": "stdout",
          "text": [
            "Saving property.csv to property.csv\n"
          ]
        }
      ]
    },
    {
      "cell_type": "code",
      "metadata": {
        "id": "0MA0FOz92Mko"
      },
      "source": [
        "df = pd.read_csv(io.BytesIO(uploaded['property.csv']))\n"
      ],
      "execution_count": 4,
      "outputs": []
    },
    {
      "cell_type": "code",
      "metadata": {
        "colab": {
          "base_uri": "https://localhost:8080/",
          "height": 363
        },
        "id": "tIaxjiHi6uMD",
        "outputId": "e1c52639-9905-4a3e-870c-92c47a6afe03"
      },
      "source": [
        "np.random.seed(0) \n",
        "df.head(10)"
      ],
      "execution_count": 5,
      "outputs": [
        {
          "output_type": "execute_result",
          "data": {
            "text/html": [
              "<div>\n",
              "<style scoped>\n",
              "    .dataframe tbody tr th:only-of-type {\n",
              "        vertical-align: middle;\n",
              "    }\n",
              "\n",
              "    .dataframe tbody tr th {\n",
              "        vertical-align: top;\n",
              "    }\n",
              "\n",
              "    .dataframe thead th {\n",
              "        text-align: right;\n",
              "    }\n",
              "</style>\n",
              "<table border=\"1\" class=\"dataframe\">\n",
              "  <thead>\n",
              "    <tr style=\"text-align: right;\">\n",
              "      <th></th>\n",
              "      <th>Size(sq.ft)</th>\n",
              "      <th>Size(m2)</th>\n",
              "      <th>Location</th>\n",
              "      <th>Price(HKD)</th>\n",
              "      <th>Price(USD)</th>\n",
              "      <th>HKD/sq.ft</th>\n",
              "    </tr>\n",
              "  </thead>\n",
              "  <tbody>\n",
              "    <tr>\n",
              "      <th>0</th>\n",
              "      <td>5868.0</td>\n",
              "      <td>545.15</td>\n",
              "      <td>Kowloon Tong, Hong Kong</td>\n",
              "      <td>178000000.0</td>\n",
              "      <td>22830813.0</td>\n",
              "      <td>30334.01</td>\n",
              "    </tr>\n",
              "    <tr>\n",
              "      <th>1</th>\n",
              "      <td>2720.0</td>\n",
              "      <td>252.69</td>\n",
              "      <td>Sha Tin, Hong Kong</td>\n",
              "      <td>85000000.0</td>\n",
              "      <td>10902355.0</td>\n",
              "      <td>31250.00</td>\n",
              "    </tr>\n",
              "    <tr>\n",
              "      <th>2</th>\n",
              "      <td>2182.0</td>\n",
              "      <td>202.71</td>\n",
              "      <td>Sha Tin, Hong Kong</td>\n",
              "      <td>69500000.0</td>\n",
              "      <td>8914278.0</td>\n",
              "      <td>31851.51</td>\n",
              "    </tr>\n",
              "    <tr>\n",
              "      <th>3</th>\n",
              "      <td>1764.0</td>\n",
              "      <td>163.88</td>\n",
              "      <td>Kowloon Tong, Hong Kong</td>\n",
              "      <td>57000000.0</td>\n",
              "      <td>7310991.0</td>\n",
              "      <td>32312.93</td>\n",
              "    </tr>\n",
              "    <tr>\n",
              "      <th>4</th>\n",
              "      <td>1837.0</td>\n",
              "      <td>170.66</td>\n",
              "      <td>Sai Kung, Hong Kong</td>\n",
              "      <td>51800000.0</td>\n",
              "      <td>6644023.0</td>\n",
              "      <td>28198.15</td>\n",
              "    </tr>\n",
              "    <tr>\n",
              "      <th>5</th>\n",
              "      <td>1290.0</td>\n",
              "      <td>119.84</td>\n",
              "      <td>Mid-Levels, Hong Kong</td>\n",
              "      <td>41000000.0</td>\n",
              "      <td>5258783.0</td>\n",
              "      <td>31782.95</td>\n",
              "    </tr>\n",
              "    <tr>\n",
              "      <th>6</th>\n",
              "      <td>1482.0</td>\n",
              "      <td>137.68</td>\n",
              "      <td>Shek Kip Mei, Hong Kong</td>\n",
              "      <td>38000000.0</td>\n",
              "      <td>4873994.0</td>\n",
              "      <td>25641.03</td>\n",
              "    </tr>\n",
              "    <tr>\n",
              "      <th>7</th>\n",
              "      <td>1104.0</td>\n",
              "      <td>102.56</td>\n",
              "      <td>Ho Man Tin, Hong Kong</td>\n",
              "      <td>36500000.0</td>\n",
              "      <td>4681599.0</td>\n",
              "      <td>33061.59</td>\n",
              "    </tr>\n",
              "    <tr>\n",
              "      <th>8</th>\n",
              "      <td>1208.0</td>\n",
              "      <td>112.23</td>\n",
              "      <td>Mid-levels West, Hong Kong</td>\n",
              "      <td>34000000.0</td>\n",
              "      <td>4360942.0</td>\n",
              "      <td>28145.70</td>\n",
              "    </tr>\n",
              "    <tr>\n",
              "      <th>9</th>\n",
              "      <td>1624.0</td>\n",
              "      <td>150.87</td>\n",
              "      <td>Kowloon City, Hong Kong</td>\n",
              "      <td>33800000.0</td>\n",
              "      <td>4335289.0</td>\n",
              "      <td>20812.81</td>\n",
              "    </tr>\n",
              "  </tbody>\n",
              "</table>\n",
              "</div>"
            ],
            "text/plain": [
              "   Size(sq.ft)  Size(m2)  ...  Price(USD)  HKD/sq.ft\n",
              "0       5868.0    545.15  ...  22830813.0   30334.01\n",
              "1       2720.0    252.69  ...  10902355.0   31250.00\n",
              "2       2182.0    202.71  ...   8914278.0   31851.51\n",
              "3       1764.0    163.88  ...   7310991.0   32312.93\n",
              "4       1837.0    170.66  ...   6644023.0   28198.15\n",
              "5       1290.0    119.84  ...   5258783.0   31782.95\n",
              "6       1482.0    137.68  ...   4873994.0   25641.03\n",
              "7       1104.0    102.56  ...   4681599.0   33061.59\n",
              "8       1208.0    112.23  ...   4360942.0   28145.70\n",
              "9       1624.0    150.87  ...   4335289.0   20812.81\n",
              "\n",
              "[10 rows x 6 columns]"
            ]
          },
          "metadata": {},
          "execution_count": 5
        }
      ]
    },
    {
      "cell_type": "markdown",
      "metadata": {
        "id": "ILeCC7tV8Ae9"
      },
      "source": [
        "**Data Cleaning**\n",
        "\n",
        "Let see is there any missing value "
      ]
    },
    {
      "cell_type": "code",
      "metadata": {
        "colab": {
          "base_uri": "https://localhost:8080/"
        },
        "id": "LWFBdnGm75b-",
        "outputId": "b61a1c14-bd5b-46a3-c544-a322e5381ca8"
      },
      "source": [
        "# get the number of missing data points per column\n",
        "missing_values_count = df.isnull().sum()\n",
        "\n",
        "# look at the # of missing points in the first ten columns\n",
        "missing_values_count"
      ],
      "execution_count": 6,
      "outputs": [
        {
          "output_type": "execute_result",
          "data": {
            "text/plain": [
              "Size(sq.ft)    0\n",
              "Size(m2)       0\n",
              "Location       0\n",
              "Price(HKD)     0\n",
              "Price(USD)     0\n",
              "HKD/sq.ft      0\n",
              "dtype: int64"
            ]
          },
          "metadata": {},
          "execution_count": 6
        }
      ]
    },
    {
      "cell_type": "markdown",
      "metadata": {
        "id": "CyAzSaKv8XJ4"
      },
      "source": [
        "Great we dont have any missing data which missing we did a good job in the data scraping 😊"
      ]
    },
    {
      "cell_type": "markdown",
      "metadata": {
        "id": "yIUVem30Cr74"
      },
      "source": [
        "**Inconsistent Data Entry**\n",
        "At this point, we can see that there are Mid-levels west and Mid-levels in the Location Column so I would like to clean this column to improve the consistency of this column."
      ]
    },
    {
      "cell_type": "code",
      "metadata": {
        "colab": {
          "base_uri": "https://localhost:8080/"
        },
        "id": "2lJdXGooue1i",
        "outputId": "6fa1660d-e4a8-4ffb-bb16-cf16bd6b964e"
      },
      "source": [
        "pip install fuzzywuzzy"
      ],
      "execution_count": 7,
      "outputs": [
        {
          "output_type": "stream",
          "name": "stdout",
          "text": [
            "Collecting fuzzywuzzy\n",
            "  Downloading fuzzywuzzy-0.18.0-py2.py3-none-any.whl (18 kB)\n",
            "Installing collected packages: fuzzywuzzy\n",
            "Successfully installed fuzzywuzzy-0.18.0\n"
          ]
        }
      ]
    },
    {
      "cell_type": "code",
      "metadata": {
        "id": "LpWor02m8WVx",
        "colab": {
          "base_uri": "https://localhost:8080/"
        },
        "outputId": "cb57eb45-f891-49c9-d83a-99e0ab8f8535"
      },
      "source": [
        "import fuzzywuzzy\n",
        "from fuzzywuzzy import process\n",
        "import chardet\n",
        "\n"
      ],
      "execution_count": 8,
      "outputs": [
        {
          "output_type": "stream",
          "name": "stderr",
          "text": [
            "/usr/local/lib/python3.7/dist-packages/fuzzywuzzy/fuzz.py:11: UserWarning: Using slow pure-python SequenceMatcher. Install python-Levenshtein to remove this warning\n",
            "  warnings.warn('Using slow pure-python SequenceMatcher. Install python-Levenshtein to remove this warning')\n"
          ]
        }
      ]
    },
    {
      "cell_type": "code",
      "metadata": {
        "colab": {
          "base_uri": "https://localhost:8080/"
        },
        "id": "dCLErTQiB1iM",
        "outputId": "c8f54b81-1ef0-447e-88df-bb332246ea18"
      },
      "source": [
        "# get all the unique values in the 'Location' column\n",
        "location = df['Location'].unique()\n",
        "# Sort the location alphabetically and then take a closer look\n",
        "location.sort()\n",
        "location"
      ],
      "execution_count": 9,
      "outputs": [
        {
          "output_type": "execute_result",
          "data": {
            "text/plain": [
              "array(['Aberdeen, Hong Kong', 'Causeway Bay, Hong Kong',\n",
              "       'Central, Hong Kong', 'Ho Man Tin, Hong Kong', 'Hong Kong',\n",
              "       'Hung Hom, Hong Kong', 'Kennedy Town, Hong Kong',\n",
              "       'Kowloon City, Hong Kong', 'Kowloon Tong, Hong Kong',\n",
              "       'Kwai Chung, Hong Kong', 'Kwun Tong, Hong Kong',\n",
              "       'Lam Tin, Hong Kong', 'Mid-Levels, Hong Kong',\n",
              "       'Mid-levels West, Hong Kong', 'Sai Kung, Hong Kong',\n",
              "       'Sha Tin, Hong Kong', 'Shek Kip Mei, Hong Kong',\n",
              "       'Sheung Wan, Hong Kong', 'Stanley, Hong Kong', 'Tai Po, Hong Kong',\n",
              "       'Tseung Kwan O, Hong Kong', 'Tuen Mun, Hong Kong',\n",
              "       'Wan Chai, Hong Kong', 'Wong Chuk Hang, Hong Kong',\n",
              "       'Yau Ma Tei, Hong Kong', 'Yau Tong, Hong Kong',\n",
              "       'Yuen Long, Hong Kong'], dtype=object)"
            ]
          },
          "metadata": {},
          "execution_count": 9
        }
      ]
    },
    {
      "cell_type": "markdown",
      "metadata": {
        "id": "MhqZ6S9JEJy-"
      },
      "source": [
        "I can see some problem due to inconsistent data entry - 'Mid-Levels' and 'Mid-Levels West'\n",
        "As Mid-Levels West is part of Mid-Levels west so it will affect our further analysis when we are dividing the data into segements based on loaction.\n",
        "Because of this, 'Hong Kong' is not a suitable location entry as well so I will treat this as an missing value."
      ]
    },
    {
      "cell_type": "code",
      "metadata": {
        "id": "6xB5eNJrEVjT"
      },
      "source": [
        "# convert to lower case\n",
        "df['Location'] = df['Location'].str.lower()\n",
        "# remove trailing white spaces\n",
        "df['Location'] = df['Location'].str.strip()"
      ],
      "execution_count": 10,
      "outputs": []
    },
    {
      "cell_type": "code",
      "metadata": {
        "colab": {
          "base_uri": "https://localhost:8080/"
        },
        "id": "2Kzal6b6D1BX",
        "outputId": "de04c4bb-0f8b-47ff-a70f-9ea0c73572e1"
      },
      "source": [
        "# get all the unique values in the 'Location' column\n",
        "Locations = df['Location'].unique()\n",
        "\n",
        "# sort them alphabetically and then take a closer look\n",
        "Locations.sort()\n",
        "Locations\n"
      ],
      "execution_count": 11,
      "outputs": [
        {
          "output_type": "execute_result",
          "data": {
            "text/plain": [
              "array(['aberdeen, hong kong', 'causeway bay, hong kong',\n",
              "       'central, hong kong', 'ho man tin, hong kong', 'hong kong',\n",
              "       'hung hom, hong kong', 'kennedy town, hong kong',\n",
              "       'kowloon city, hong kong', 'kowloon tong, hong kong',\n",
              "       'kwai chung, hong kong', 'kwun tong, hong kong',\n",
              "       'lam tin, hong kong', 'mid-levels west, hong kong',\n",
              "       'mid-levels, hong kong', 'sai kung, hong kong',\n",
              "       'sha tin, hong kong', 'shek kip mei, hong kong',\n",
              "       'sheung wan, hong kong', 'stanley, hong kong', 'tai po, hong kong',\n",
              "       'tseung kwan o, hong kong', 'tuen mun, hong kong',\n",
              "       'wan chai, hong kong', 'wong chuk hang, hong kong',\n",
              "       'yau ma tei, hong kong', 'yau tong, hong kong',\n",
              "       'yuen long, hong kong'], dtype=object)"
            ]
          },
          "metadata": {},
          "execution_count": 11
        }
      ]
    },
    {
      "cell_type": "markdown",
      "metadata": {
        "id": "sGEkwh2BHb3b"
      },
      "source": [
        "So far besides the mentioned issue, the rest of them looks alright lets start cleaning 🧠"
      ]
    },
    {
      "cell_type": "code",
      "metadata": {
        "colab": {
          "base_uri": "https://localhost:8080/"
        },
        "id": "DXitspsAHbJo",
        "outputId": "ff49a527-8109-4512-e644-d139feda7c53"
      },
      "source": [
        "# get the top 10 closest matches to \"mid-levels, hong kong\"\n",
        "matches = fuzzywuzzy.process.extract(\"mid-levels, hong kong\", Locations,limit=10, scorer=fuzzywuzzy.fuzz.token_sort_ratio)\n",
        "\n",
        "# take a look at them\n",
        "matches"
      ],
      "execution_count": 12,
      "outputs": [
        {
          "output_type": "execute_result",
          "data": {
            "text/plain": [
              "[('mid-levels, hong kong', 100),\n",
              " ('mid-levels west, hong kong', 89),\n",
              " ('lam tin, hong kong', 70),\n",
              " ('sha tin, hong kong', 70),\n",
              " ('tai po, hong kong', 67),\n",
              " ('stanley, hong kong', 65),\n",
              " ('sai kung, hong kong', 63),\n",
              " ('hong kong', 62),\n",
              " ('yuen long, hong kong', 62),\n",
              " ('ho man tin, hong kong', 60)]"
            ]
          },
          "metadata": {},
          "execution_count": 12
        }
      ]
    },
    {
      "cell_type": "markdown",
      "metadata": {
        "id": "PQk9PXtsIY6m"
      },
      "source": [
        "Lets replace all the fields that with have a ratio of > 88 with \"mid-levels, hong kong\""
      ]
    },
    {
      "cell_type": "code",
      "metadata": {
        "id": "tpiC5ENuIX-7"
      },
      "source": [
        "def replace_matches_in_column(df, column, string_to_match, min_ratio = 88):\n",
        "    # get a list of unique strings\n",
        "    strings = df[column].unique()\n",
        "    \n",
        "    # get the top 10 closest matches to our input string\n",
        "    matches = fuzzywuzzy.process.extract(string_to_match, strings, \n",
        "                                         limit=10, scorer=fuzzywuzzy.fuzz.token_sort_ratio)\n",
        "\n",
        "    # only get matches with a ratio > 88\n",
        "    close_matches = [matches[0] for matches in matches if matches[1] >= min_ratio]\n",
        "\n",
        "    # get the rows of all the close matches in our dataframe\n",
        "    rows_with_matches = df[column].isin(close_matches)\n",
        "\n",
        "    # replace all rows with close matches with the input matches \n",
        "    df.loc[rows_with_matches, column] = string_to_match\n",
        "    \n",
        "    # let us know the function's done\n",
        "    print(\"All done!\")"
      ],
      "execution_count": 13,
      "outputs": []
    },
    {
      "cell_type": "code",
      "metadata": {
        "colab": {
          "base_uri": "https://localhost:8080/"
        },
        "id": "bgNlQ_XHDw79",
        "outputId": "0576bd9b-6aa1-4ebb-a2f3-daf461debaeb"
      },
      "source": [
        "replace_matches_in_column(df=df, column='Location', string_to_match='mid-levels, hong kong')"
      ],
      "execution_count": 14,
      "outputs": [
        {
          "output_type": "stream",
          "name": "stdout",
          "text": [
            "All done!\n"
          ]
        }
      ]
    },
    {
      "cell_type": "code",
      "metadata": {
        "colab": {
          "base_uri": "https://localhost:8080/"
        },
        "id": "YxopVzHiJgrX",
        "outputId": "a9977dd0-8f4a-4295-de82-20dd725d7905"
      },
      "source": [
        "\n",
        "test = df['Location'].unique()\n",
        "\n",
        "test.sort()\n",
        "test"
      ],
      "execution_count": 15,
      "outputs": [
        {
          "output_type": "execute_result",
          "data": {
            "text/plain": [
              "array(['aberdeen, hong kong', 'causeway bay, hong kong',\n",
              "       'central, hong kong', 'ho man tin, hong kong', 'hong kong',\n",
              "       'hung hom, hong kong', 'kennedy town, hong kong',\n",
              "       'kowloon city, hong kong', 'kowloon tong, hong kong',\n",
              "       'kwai chung, hong kong', 'kwun tong, hong kong',\n",
              "       'lam tin, hong kong', 'mid-levels, hong kong',\n",
              "       'sai kung, hong kong', 'sha tin, hong kong',\n",
              "       'shek kip mei, hong kong', 'sheung wan, hong kong',\n",
              "       'stanley, hong kong', 'tai po, hong kong',\n",
              "       'tseung kwan o, hong kong', 'tuen mun, hong kong',\n",
              "       'wan chai, hong kong', 'wong chuk hang, hong kong',\n",
              "       'yau ma tei, hong kong', 'yau tong, hong kong',\n",
              "       'yuen long, hong kong'], dtype=object)"
            ]
          },
          "metadata": {},
          "execution_count": 15
        }
      ]
    },
    {
      "cell_type": "code",
      "metadata": {
        "colab": {
          "base_uri": "https://localhost:8080/",
          "height": 424
        },
        "id": "uq9KXq5YKX0c",
        "outputId": "04cbd7b8-aad8-4e12-86e2-dd2d202bf464"
      },
      "source": [
        "df"
      ],
      "execution_count": 16,
      "outputs": [
        {
          "output_type": "execute_result",
          "data": {
            "text/html": [
              "<div>\n",
              "<style scoped>\n",
              "    .dataframe tbody tr th:only-of-type {\n",
              "        vertical-align: middle;\n",
              "    }\n",
              "\n",
              "    .dataframe tbody tr th {\n",
              "        vertical-align: top;\n",
              "    }\n",
              "\n",
              "    .dataframe thead th {\n",
              "        text-align: right;\n",
              "    }\n",
              "</style>\n",
              "<table border=\"1\" class=\"dataframe\">\n",
              "  <thead>\n",
              "    <tr style=\"text-align: right;\">\n",
              "      <th></th>\n",
              "      <th>Size(sq.ft)</th>\n",
              "      <th>Size(m2)</th>\n",
              "      <th>Location</th>\n",
              "      <th>Price(HKD)</th>\n",
              "      <th>Price(USD)</th>\n",
              "      <th>HKD/sq.ft</th>\n",
              "    </tr>\n",
              "  </thead>\n",
              "  <tbody>\n",
              "    <tr>\n",
              "      <th>0</th>\n",
              "      <td>5868.0</td>\n",
              "      <td>545.15</td>\n",
              "      <td>kowloon tong, hong kong</td>\n",
              "      <td>178000000.0</td>\n",
              "      <td>22830813.0</td>\n",
              "      <td>30334.01</td>\n",
              "    </tr>\n",
              "    <tr>\n",
              "      <th>1</th>\n",
              "      <td>2720.0</td>\n",
              "      <td>252.69</td>\n",
              "      <td>sha tin, hong kong</td>\n",
              "      <td>85000000.0</td>\n",
              "      <td>10902355.0</td>\n",
              "      <td>31250.00</td>\n",
              "    </tr>\n",
              "    <tr>\n",
              "      <th>2</th>\n",
              "      <td>2182.0</td>\n",
              "      <td>202.71</td>\n",
              "      <td>sha tin, hong kong</td>\n",
              "      <td>69500000.0</td>\n",
              "      <td>8914278.0</td>\n",
              "      <td>31851.51</td>\n",
              "    </tr>\n",
              "    <tr>\n",
              "      <th>3</th>\n",
              "      <td>1764.0</td>\n",
              "      <td>163.88</td>\n",
              "      <td>kowloon tong, hong kong</td>\n",
              "      <td>57000000.0</td>\n",
              "      <td>7310991.0</td>\n",
              "      <td>32312.93</td>\n",
              "    </tr>\n",
              "    <tr>\n",
              "      <th>4</th>\n",
              "      <td>1837.0</td>\n",
              "      <td>170.66</td>\n",
              "      <td>sai kung, hong kong</td>\n",
              "      <td>51800000.0</td>\n",
              "      <td>6644023.0</td>\n",
              "      <td>28198.15</td>\n",
              "    </tr>\n",
              "    <tr>\n",
              "      <th>...</th>\n",
              "      <td>...</td>\n",
              "      <td>...</td>\n",
              "      <td>...</td>\n",
              "      <td>...</td>\n",
              "      <td>...</td>\n",
              "      <td>...</td>\n",
              "    </tr>\n",
              "    <tr>\n",
              "      <th>995</th>\n",
              "      <td>349.0</td>\n",
              "      <td>32.42</td>\n",
              "      <td>tai po, hong kong</td>\n",
              "      <td>2230000.0</td>\n",
              "      <td>286026.0</td>\n",
              "      <td>6389.68</td>\n",
              "    </tr>\n",
              "    <tr>\n",
              "      <th>996</th>\n",
              "      <td>286.0</td>\n",
              "      <td>26.57</td>\n",
              "      <td>tai po, hong kong</td>\n",
              "      <td>2100000.0</td>\n",
              "      <td>269352.0</td>\n",
              "      <td>7342.66</td>\n",
              "    </tr>\n",
              "    <tr>\n",
              "      <th>997</th>\n",
              "      <td>349.0</td>\n",
              "      <td>32.42</td>\n",
              "      <td>tai po, hong kong</td>\n",
              "      <td>2000000.0</td>\n",
              "      <td>256526.0</td>\n",
              "      <td>5730.66</td>\n",
              "    </tr>\n",
              "    <tr>\n",
              "      <th>998</th>\n",
              "      <td>355.0</td>\n",
              "      <td>32.98</td>\n",
              "      <td>tai po, hong kong</td>\n",
              "      <td>1750000.0</td>\n",
              "      <td>224460.0</td>\n",
              "      <td>4929.58</td>\n",
              "    </tr>\n",
              "    <tr>\n",
              "      <th>999</th>\n",
              "      <td>234.0</td>\n",
              "      <td>21.74</td>\n",
              "      <td>tai po, hong kong</td>\n",
              "      <td>1000000.0</td>\n",
              "      <td>128263.0</td>\n",
              "      <td>4273.50</td>\n",
              "    </tr>\n",
              "  </tbody>\n",
              "</table>\n",
              "<p>1000 rows × 6 columns</p>\n",
              "</div>"
            ],
            "text/plain": [
              "     Size(sq.ft)  Size(m2)  ...  Price(USD)  HKD/sq.ft\n",
              "0         5868.0    545.15  ...  22830813.0   30334.01\n",
              "1         2720.0    252.69  ...  10902355.0   31250.00\n",
              "2         2182.0    202.71  ...   8914278.0   31851.51\n",
              "3         1764.0    163.88  ...   7310991.0   32312.93\n",
              "4         1837.0    170.66  ...   6644023.0   28198.15\n",
              "..           ...       ...  ...         ...        ...\n",
              "995        349.0     32.42  ...    286026.0    6389.68\n",
              "996        286.0     26.57  ...    269352.0    7342.66\n",
              "997        349.0     32.42  ...    256526.0    5730.66\n",
              "998        355.0     32.98  ...    224460.0    4929.58\n",
              "999        234.0     21.74  ...    128263.0    4273.50\n",
              "\n",
              "[1000 rows x 6 columns]"
            ]
          },
          "metadata": {},
          "execution_count": 16
        }
      ]
    },
    {
      "cell_type": "markdown",
      "metadata": {
        "id": "uZ5wM-9PKOEg"
      },
      "source": [
        "Next Lets ammend the fields with 'Hong Kong'"
      ]
    },
    {
      "cell_type": "code",
      "metadata": {
        "colab": {
          "base_uri": "https://localhost:8080/"
        },
        "id": "JIP5r9r5KNIB",
        "outputId": "9fca7359-e4c3-454f-9461-95040d60cd08"
      },
      "source": [
        "missing_location = df.loc[df['Location'] == 'hong kong'].count()\n",
        "total_location = df['Location'].count()\n",
        "missing_location_precent = (missing_location/total_location) * 100\n",
        "missing_location_precent"
      ],
      "execution_count": 17,
      "outputs": [
        {
          "output_type": "execute_result",
          "data": {
            "text/plain": [
              "Size(sq.ft)    3.1\n",
              "Size(m2)       3.1\n",
              "Location       3.1\n",
              "Price(HKD)     3.1\n",
              "Price(USD)     3.1\n",
              "HKD/sq.ft      3.1\n",
              "dtype: float64"
            ]
          },
          "metadata": {},
          "execution_count": 17
        }
      ]
    },
    {
      "cell_type": "markdown",
      "metadata": {
        "id": "OvlJiAOeMtIM"
      },
      "source": [
        "Seems like there is 3.1%  of the locations not recorded \n",
        "As 3.1% wont affect our analysis much so Ive decided to save these rows in different dataframe "
      ]
    },
    {
      "cell_type": "code",
      "metadata": {
        "colab": {
          "base_uri": "https://localhost:8080/",
          "height": 424
        },
        "id": "u8ehzp87Mr9V",
        "outputId": "4916a682-2eaf-43c7-f874-16e7d29153ec"
      },
      "source": [
        "cleaned_df = df.loc[df['Location'] != 'hong kong']\n",
        "cleaned_df.reset_index()"
      ],
      "execution_count": 18,
      "outputs": [
        {
          "output_type": "execute_result",
          "data": {
            "text/html": [
              "<div>\n",
              "<style scoped>\n",
              "    .dataframe tbody tr th:only-of-type {\n",
              "        vertical-align: middle;\n",
              "    }\n",
              "\n",
              "    .dataframe tbody tr th {\n",
              "        vertical-align: top;\n",
              "    }\n",
              "\n",
              "    .dataframe thead th {\n",
              "        text-align: right;\n",
              "    }\n",
              "</style>\n",
              "<table border=\"1\" class=\"dataframe\">\n",
              "  <thead>\n",
              "    <tr style=\"text-align: right;\">\n",
              "      <th></th>\n",
              "      <th>index</th>\n",
              "      <th>Size(sq.ft)</th>\n",
              "      <th>Size(m2)</th>\n",
              "      <th>Location</th>\n",
              "      <th>Price(HKD)</th>\n",
              "      <th>Price(USD)</th>\n",
              "      <th>HKD/sq.ft</th>\n",
              "    </tr>\n",
              "  </thead>\n",
              "  <tbody>\n",
              "    <tr>\n",
              "      <th>0</th>\n",
              "      <td>0</td>\n",
              "      <td>5868.0</td>\n",
              "      <td>545.15</td>\n",
              "      <td>kowloon tong, hong kong</td>\n",
              "      <td>178000000.0</td>\n",
              "      <td>22830813.0</td>\n",
              "      <td>30334.01</td>\n",
              "    </tr>\n",
              "    <tr>\n",
              "      <th>1</th>\n",
              "      <td>1</td>\n",
              "      <td>2720.0</td>\n",
              "      <td>252.69</td>\n",
              "      <td>sha tin, hong kong</td>\n",
              "      <td>85000000.0</td>\n",
              "      <td>10902355.0</td>\n",
              "      <td>31250.00</td>\n",
              "    </tr>\n",
              "    <tr>\n",
              "      <th>2</th>\n",
              "      <td>2</td>\n",
              "      <td>2182.0</td>\n",
              "      <td>202.71</td>\n",
              "      <td>sha tin, hong kong</td>\n",
              "      <td>69500000.0</td>\n",
              "      <td>8914278.0</td>\n",
              "      <td>31851.51</td>\n",
              "    </tr>\n",
              "    <tr>\n",
              "      <th>3</th>\n",
              "      <td>3</td>\n",
              "      <td>1764.0</td>\n",
              "      <td>163.88</td>\n",
              "      <td>kowloon tong, hong kong</td>\n",
              "      <td>57000000.0</td>\n",
              "      <td>7310991.0</td>\n",
              "      <td>32312.93</td>\n",
              "    </tr>\n",
              "    <tr>\n",
              "      <th>4</th>\n",
              "      <td>4</td>\n",
              "      <td>1837.0</td>\n",
              "      <td>170.66</td>\n",
              "      <td>sai kung, hong kong</td>\n",
              "      <td>51800000.0</td>\n",
              "      <td>6644023.0</td>\n",
              "      <td>28198.15</td>\n",
              "    </tr>\n",
              "    <tr>\n",
              "      <th>...</th>\n",
              "      <td>...</td>\n",
              "      <td>...</td>\n",
              "      <td>...</td>\n",
              "      <td>...</td>\n",
              "      <td>...</td>\n",
              "      <td>...</td>\n",
              "      <td>...</td>\n",
              "    </tr>\n",
              "    <tr>\n",
              "      <th>964</th>\n",
              "      <td>995</td>\n",
              "      <td>349.0</td>\n",
              "      <td>32.42</td>\n",
              "      <td>tai po, hong kong</td>\n",
              "      <td>2230000.0</td>\n",
              "      <td>286026.0</td>\n",
              "      <td>6389.68</td>\n",
              "    </tr>\n",
              "    <tr>\n",
              "      <th>965</th>\n",
              "      <td>996</td>\n",
              "      <td>286.0</td>\n",
              "      <td>26.57</td>\n",
              "      <td>tai po, hong kong</td>\n",
              "      <td>2100000.0</td>\n",
              "      <td>269352.0</td>\n",
              "      <td>7342.66</td>\n",
              "    </tr>\n",
              "    <tr>\n",
              "      <th>966</th>\n",
              "      <td>997</td>\n",
              "      <td>349.0</td>\n",
              "      <td>32.42</td>\n",
              "      <td>tai po, hong kong</td>\n",
              "      <td>2000000.0</td>\n",
              "      <td>256526.0</td>\n",
              "      <td>5730.66</td>\n",
              "    </tr>\n",
              "    <tr>\n",
              "      <th>967</th>\n",
              "      <td>998</td>\n",
              "      <td>355.0</td>\n",
              "      <td>32.98</td>\n",
              "      <td>tai po, hong kong</td>\n",
              "      <td>1750000.0</td>\n",
              "      <td>224460.0</td>\n",
              "      <td>4929.58</td>\n",
              "    </tr>\n",
              "    <tr>\n",
              "      <th>968</th>\n",
              "      <td>999</td>\n",
              "      <td>234.0</td>\n",
              "      <td>21.74</td>\n",
              "      <td>tai po, hong kong</td>\n",
              "      <td>1000000.0</td>\n",
              "      <td>128263.0</td>\n",
              "      <td>4273.50</td>\n",
              "    </tr>\n",
              "  </tbody>\n",
              "</table>\n",
              "<p>969 rows × 7 columns</p>\n",
              "</div>"
            ],
            "text/plain": [
              "     index  Size(sq.ft)  Size(m2)  ...   Price(HKD)  Price(USD)  HKD/sq.ft\n",
              "0        0       5868.0    545.15  ...  178000000.0  22830813.0   30334.01\n",
              "1        1       2720.0    252.69  ...   85000000.0  10902355.0   31250.00\n",
              "2        2       2182.0    202.71  ...   69500000.0   8914278.0   31851.51\n",
              "3        3       1764.0    163.88  ...   57000000.0   7310991.0   32312.93\n",
              "4        4       1837.0    170.66  ...   51800000.0   6644023.0   28198.15\n",
              "..     ...          ...       ...  ...          ...         ...        ...\n",
              "964    995        349.0     32.42  ...    2230000.0    286026.0    6389.68\n",
              "965    996        286.0     26.57  ...    2100000.0    269352.0    7342.66\n",
              "966    997        349.0     32.42  ...    2000000.0    256526.0    5730.66\n",
              "967    998        355.0     32.98  ...    1750000.0    224460.0    4929.58\n",
              "968    999        234.0     21.74  ...    1000000.0    128263.0    4273.50\n",
              "\n",
              "[969 rows x 7 columns]"
            ]
          },
          "metadata": {},
          "execution_count": 18
        }
      ]
    },
    {
      "cell_type": "code",
      "metadata": {
        "colab": {
          "base_uri": "https://localhost:8080/"
        },
        "id": "j0OFoJTORQgU",
        "outputId": "078e9f96-9060-4cfa-ce80-d480018875ea"
      },
      "source": [
        "cleaned_df['Location'] = cleaned_df['Location'].str.upper()"
      ],
      "execution_count": 19,
      "outputs": [
        {
          "output_type": "stream",
          "name": "stderr",
          "text": [
            "/usr/local/lib/python3.7/dist-packages/ipykernel_launcher.py:1: SettingWithCopyWarning: \n",
            "A value is trying to be set on a copy of a slice from a DataFrame.\n",
            "Try using .loc[row_indexer,col_indexer] = value instead\n",
            "\n",
            "See the caveats in the documentation: https://pandas.pydata.org/pandas-docs/stable/user_guide/indexing.html#returning-a-view-versus-a-copy\n",
            "  \"\"\"Entry point for launching an IPython kernel.\n"
          ]
        }
      ]
    },
    {
      "cell_type": "code",
      "metadata": {
        "colab": {
          "base_uri": "https://localhost:8080/",
          "height": 1000
        },
        "id": "zPXau53LKLmr",
        "outputId": "d2eb2bbe-02f1-4897-ce9d-5625865ba5ae"
      },
      "source": [
        "removed_df = df.loc[df['Location'] == 'hong kong']\n",
        "removed_df.reset_index()"
      ],
      "execution_count": 20,
      "outputs": [
        {
          "output_type": "execute_result",
          "data": {
            "text/html": [
              "<div>\n",
              "<style scoped>\n",
              "    .dataframe tbody tr th:only-of-type {\n",
              "        vertical-align: middle;\n",
              "    }\n",
              "\n",
              "    .dataframe tbody tr th {\n",
              "        vertical-align: top;\n",
              "    }\n",
              "\n",
              "    .dataframe thead th {\n",
              "        text-align: right;\n",
              "    }\n",
              "</style>\n",
              "<table border=\"1\" class=\"dataframe\">\n",
              "  <thead>\n",
              "    <tr style=\"text-align: right;\">\n",
              "      <th></th>\n",
              "      <th>index</th>\n",
              "      <th>Size(sq.ft)</th>\n",
              "      <th>Size(m2)</th>\n",
              "      <th>Location</th>\n",
              "      <th>Price(HKD)</th>\n",
              "      <th>Price(USD)</th>\n",
              "      <th>HKD/sq.ft</th>\n",
              "    </tr>\n",
              "  </thead>\n",
              "  <tbody>\n",
              "    <tr>\n",
              "      <th>0</th>\n",
              "      <td>12</td>\n",
              "      <td>1659.0</td>\n",
              "      <td>154.12</td>\n",
              "      <td>hong kong</td>\n",
              "      <td>33000000.0</td>\n",
              "      <td>4232679.0</td>\n",
              "      <td>19891.50</td>\n",
              "    </tr>\n",
              "    <tr>\n",
              "      <th>1</th>\n",
              "      <td>46</td>\n",
              "      <td>860.0</td>\n",
              "      <td>79.90</td>\n",
              "      <td>hong kong</td>\n",
              "      <td>23000000.0</td>\n",
              "      <td>2950049.0</td>\n",
              "      <td>26744.19</td>\n",
              "    </tr>\n",
              "    <tr>\n",
              "      <th>2</th>\n",
              "      <td>47</td>\n",
              "      <td>842.0</td>\n",
              "      <td>78.22</td>\n",
              "      <td>hong kong</td>\n",
              "      <td>22700000.0</td>\n",
              "      <td>2911570.0</td>\n",
              "      <td>26959.62</td>\n",
              "    </tr>\n",
              "    <tr>\n",
              "      <th>3</th>\n",
              "      <td>50</td>\n",
              "      <td>1239.0</td>\n",
              "      <td>115.11</td>\n",
              "      <td>hong kong</td>\n",
              "      <td>21880000.0</td>\n",
              "      <td>2806394.0</td>\n",
              "      <td>17659.40</td>\n",
              "    </tr>\n",
              "    <tr>\n",
              "      <th>4</th>\n",
              "      <td>62</td>\n",
              "      <td>870.0</td>\n",
              "      <td>80.82</td>\n",
              "      <td>hong kong</td>\n",
              "      <td>20800000.0</td>\n",
              "      <td>2667870.0</td>\n",
              "      <td>23908.05</td>\n",
              "    </tr>\n",
              "    <tr>\n",
              "      <th>5</th>\n",
              "      <td>63</td>\n",
              "      <td>1199.0</td>\n",
              "      <td>111.39</td>\n",
              "      <td>hong kong</td>\n",
              "      <td>20000000.0</td>\n",
              "      <td>2565260.0</td>\n",
              "      <td>16680.57</td>\n",
              "    </tr>\n",
              "    <tr>\n",
              "      <th>6</th>\n",
              "      <td>124</td>\n",
              "      <td>1259.0</td>\n",
              "      <td>116.96</td>\n",
              "      <td>hong kong</td>\n",
              "      <td>16000000.0</td>\n",
              "      <td>2052208.0</td>\n",
              "      <td>12708.50</td>\n",
              "    </tr>\n",
              "    <tr>\n",
              "      <th>7</th>\n",
              "      <td>143</td>\n",
              "      <td>954.0</td>\n",
              "      <td>88.63</td>\n",
              "      <td>hong kong</td>\n",
              "      <td>15500000.0</td>\n",
              "      <td>1988076.0</td>\n",
              "      <td>16247.38</td>\n",
              "    </tr>\n",
              "    <tr>\n",
              "      <th>8</th>\n",
              "      <td>158</td>\n",
              "      <td>955.0</td>\n",
              "      <td>88.72</td>\n",
              "      <td>hong kong</td>\n",
              "      <td>14800000.0</td>\n",
              "      <td>1898292.0</td>\n",
              "      <td>15497.38</td>\n",
              "    </tr>\n",
              "    <tr>\n",
              "      <th>9</th>\n",
              "      <td>162</td>\n",
              "      <td>712.0</td>\n",
              "      <td>66.15</td>\n",
              "      <td>hong kong</td>\n",
              "      <td>14600000.0</td>\n",
              "      <td>1872640.0</td>\n",
              "      <td>20505.62</td>\n",
              "    </tr>\n",
              "    <tr>\n",
              "      <th>10</th>\n",
              "      <td>185</td>\n",
              "      <td>686.0</td>\n",
              "      <td>63.73</td>\n",
              "      <td>hong kong</td>\n",
              "      <td>13700000.0</td>\n",
              "      <td>1757203.0</td>\n",
              "      <td>19970.85</td>\n",
              "    </tr>\n",
              "    <tr>\n",
              "      <th>11</th>\n",
              "      <td>198</td>\n",
              "      <td>765.0</td>\n",
              "      <td>71.07</td>\n",
              "      <td>hong kong</td>\n",
              "      <td>13100000.0</td>\n",
              "      <td>1680245.0</td>\n",
              "      <td>17124.18</td>\n",
              "    </tr>\n",
              "    <tr>\n",
              "      <th>12</th>\n",
              "      <td>317</td>\n",
              "      <td>702.0</td>\n",
              "      <td>65.22</td>\n",
              "      <td>hong kong</td>\n",
              "      <td>10300000.0</td>\n",
              "      <td>1321109.0</td>\n",
              "      <td>14672.36</td>\n",
              "    </tr>\n",
              "    <tr>\n",
              "      <th>13</th>\n",
              "      <td>367</td>\n",
              "      <td>700.0</td>\n",
              "      <td>65.03</td>\n",
              "      <td>hong kong</td>\n",
              "      <td>9500000.0</td>\n",
              "      <td>1218498.0</td>\n",
              "      <td>13571.43</td>\n",
              "    </tr>\n",
              "    <tr>\n",
              "      <th>14</th>\n",
              "      <td>410</td>\n",
              "      <td>503.0</td>\n",
              "      <td>46.73</td>\n",
              "      <td>hong kong</td>\n",
              "      <td>8850000.0</td>\n",
              "      <td>1135128.0</td>\n",
              "      <td>17594.43</td>\n",
              "    </tr>\n",
              "    <tr>\n",
              "      <th>15</th>\n",
              "      <td>413</td>\n",
              "      <td>384.0</td>\n",
              "      <td>35.67</td>\n",
              "      <td>hong kong</td>\n",
              "      <td>8800000.0</td>\n",
              "      <td>1128714.0</td>\n",
              "      <td>22916.67</td>\n",
              "    </tr>\n",
              "    <tr>\n",
              "      <th>16</th>\n",
              "      <td>669</td>\n",
              "      <td>420.0</td>\n",
              "      <td>39.02</td>\n",
              "      <td>hong kong</td>\n",
              "      <td>7000000.0</td>\n",
              "      <td>897841.0</td>\n",
              "      <td>16666.67</td>\n",
              "    </tr>\n",
              "    <tr>\n",
              "      <th>17</th>\n",
              "      <td>770</td>\n",
              "      <td>310.0</td>\n",
              "      <td>28.80</td>\n",
              "      <td>hong kong</td>\n",
              "      <td>6500000.0</td>\n",
              "      <td>833709.0</td>\n",
              "      <td>20967.74</td>\n",
              "    </tr>\n",
              "    <tr>\n",
              "      <th>18</th>\n",
              "      <td>774</td>\n",
              "      <td>354.0</td>\n",
              "      <td>32.89</td>\n",
              "      <td>hong kong</td>\n",
              "      <td>6500000.0</td>\n",
              "      <td>833709.0</td>\n",
              "      <td>18361.58</td>\n",
              "    </tr>\n",
              "    <tr>\n",
              "      <th>19</th>\n",
              "      <td>782</td>\n",
              "      <td>639.0</td>\n",
              "      <td>59.36</td>\n",
              "      <td>hong kong</td>\n",
              "      <td>6500000.0</td>\n",
              "      <td>833709.0</td>\n",
              "      <td>10172.14</td>\n",
              "    </tr>\n",
              "    <tr>\n",
              "      <th>20</th>\n",
              "      <td>808</td>\n",
              "      <td>487.0</td>\n",
              "      <td>45.24</td>\n",
              "      <td>hong kong</td>\n",
              "      <td>6300000.0</td>\n",
              "      <td>808057.0</td>\n",
              "      <td>12936.34</td>\n",
              "    </tr>\n",
              "    <tr>\n",
              "      <th>21</th>\n",
              "      <td>819</td>\n",
              "      <td>337.0</td>\n",
              "      <td>31.31</td>\n",
              "      <td>hong kong</td>\n",
              "      <td>6200000.0</td>\n",
              "      <td>795231.0</td>\n",
              "      <td>18397.63</td>\n",
              "    </tr>\n",
              "    <tr>\n",
              "      <th>22</th>\n",
              "      <td>823</td>\n",
              "      <td>469.0</td>\n",
              "      <td>43.57</td>\n",
              "      <td>hong kong</td>\n",
              "      <td>6200000.0</td>\n",
              "      <td>795231.0</td>\n",
              "      <td>13219.62</td>\n",
              "    </tr>\n",
              "    <tr>\n",
              "      <th>23</th>\n",
              "      <td>825</td>\n",
              "      <td>339.0</td>\n",
              "      <td>31.49</td>\n",
              "      <td>hong kong</td>\n",
              "      <td>6180000.0</td>\n",
              "      <td>792665.0</td>\n",
              "      <td>18230.09</td>\n",
              "    </tr>\n",
              "    <tr>\n",
              "      <th>24</th>\n",
              "      <td>904</td>\n",
              "      <td>353.0</td>\n",
              "      <td>32.79</td>\n",
              "      <td>hong kong</td>\n",
              "      <td>5300000.0</td>\n",
              "      <td>679794.0</td>\n",
              "      <td>15014.16</td>\n",
              "    </tr>\n",
              "    <tr>\n",
              "      <th>25</th>\n",
              "      <td>914</td>\n",
              "      <td>401.0</td>\n",
              "      <td>37.25</td>\n",
              "      <td>hong kong</td>\n",
              "      <td>5300000.0</td>\n",
              "      <td>679794.0</td>\n",
              "      <td>13216.96</td>\n",
              "    </tr>\n",
              "    <tr>\n",
              "      <th>26</th>\n",
              "      <td>937</td>\n",
              "      <td>341.0</td>\n",
              "      <td>31.68</td>\n",
              "      <td>hong kong</td>\n",
              "      <td>4980000.0</td>\n",
              "      <td>638750.0</td>\n",
              "      <td>14604.11</td>\n",
              "    </tr>\n",
              "    <tr>\n",
              "      <th>27</th>\n",
              "      <td>953</td>\n",
              "      <td>304.0</td>\n",
              "      <td>28.24</td>\n",
              "      <td>hong kong</td>\n",
              "      <td>4680000.0</td>\n",
              "      <td>600271.0</td>\n",
              "      <td>15394.74</td>\n",
              "    </tr>\n",
              "    <tr>\n",
              "      <th>28</th>\n",
              "      <td>954</td>\n",
              "      <td>255.0</td>\n",
              "      <td>23.69</td>\n",
              "      <td>hong kong</td>\n",
              "      <td>4600000.0</td>\n",
              "      <td>590010.0</td>\n",
              "      <td>18039.22</td>\n",
              "    </tr>\n",
              "    <tr>\n",
              "      <th>29</th>\n",
              "      <td>956</td>\n",
              "      <td>229.0</td>\n",
              "      <td>21.27</td>\n",
              "      <td>hong kong</td>\n",
              "      <td>4500000.0</td>\n",
              "      <td>577183.0</td>\n",
              "      <td>19650.66</td>\n",
              "    </tr>\n",
              "    <tr>\n",
              "      <th>30</th>\n",
              "      <td>962</td>\n",
              "      <td>200.0</td>\n",
              "      <td>18.58</td>\n",
              "      <td>hong kong</td>\n",
              "      <td>4300000.0</td>\n",
              "      <td>551531.0</td>\n",
              "      <td>21500.00</td>\n",
              "    </tr>\n",
              "  </tbody>\n",
              "</table>\n",
              "</div>"
            ],
            "text/plain": [
              "    index  Size(sq.ft)  Size(m2)   Location  Price(HKD)  Price(USD)  HKD/sq.ft\n",
              "0      12       1659.0    154.12  hong kong  33000000.0   4232679.0   19891.50\n",
              "1      46        860.0     79.90  hong kong  23000000.0   2950049.0   26744.19\n",
              "2      47        842.0     78.22  hong kong  22700000.0   2911570.0   26959.62\n",
              "3      50       1239.0    115.11  hong kong  21880000.0   2806394.0   17659.40\n",
              "4      62        870.0     80.82  hong kong  20800000.0   2667870.0   23908.05\n",
              "5      63       1199.0    111.39  hong kong  20000000.0   2565260.0   16680.57\n",
              "6     124       1259.0    116.96  hong kong  16000000.0   2052208.0   12708.50\n",
              "7     143        954.0     88.63  hong kong  15500000.0   1988076.0   16247.38\n",
              "8     158        955.0     88.72  hong kong  14800000.0   1898292.0   15497.38\n",
              "9     162        712.0     66.15  hong kong  14600000.0   1872640.0   20505.62\n",
              "10    185        686.0     63.73  hong kong  13700000.0   1757203.0   19970.85\n",
              "11    198        765.0     71.07  hong kong  13100000.0   1680245.0   17124.18\n",
              "12    317        702.0     65.22  hong kong  10300000.0   1321109.0   14672.36\n",
              "13    367        700.0     65.03  hong kong   9500000.0   1218498.0   13571.43\n",
              "14    410        503.0     46.73  hong kong   8850000.0   1135128.0   17594.43\n",
              "15    413        384.0     35.67  hong kong   8800000.0   1128714.0   22916.67\n",
              "16    669        420.0     39.02  hong kong   7000000.0    897841.0   16666.67\n",
              "17    770        310.0     28.80  hong kong   6500000.0    833709.0   20967.74\n",
              "18    774        354.0     32.89  hong kong   6500000.0    833709.0   18361.58\n",
              "19    782        639.0     59.36  hong kong   6500000.0    833709.0   10172.14\n",
              "20    808        487.0     45.24  hong kong   6300000.0    808057.0   12936.34\n",
              "21    819        337.0     31.31  hong kong   6200000.0    795231.0   18397.63\n",
              "22    823        469.0     43.57  hong kong   6200000.0    795231.0   13219.62\n",
              "23    825        339.0     31.49  hong kong   6180000.0    792665.0   18230.09\n",
              "24    904        353.0     32.79  hong kong   5300000.0    679794.0   15014.16\n",
              "25    914        401.0     37.25  hong kong   5300000.0    679794.0   13216.96\n",
              "26    937        341.0     31.68  hong kong   4980000.0    638750.0   14604.11\n",
              "27    953        304.0     28.24  hong kong   4680000.0    600271.0   15394.74\n",
              "28    954        255.0     23.69  hong kong   4600000.0    590010.0   18039.22\n",
              "29    956        229.0     21.27  hong kong   4500000.0    577183.0   19650.66\n",
              "30    962        200.0     18.58  hong kong   4300000.0    551531.0   21500.00"
            ]
          },
          "metadata": {},
          "execution_count": 20
        }
      ]
    },
    {
      "cell_type": "markdown",
      "metadata": {
        "id": "-a7eswpXOeJt"
      },
      "source": [
        "Data Exploration\n",
        "First of All, I would like to see which location have the most properties for sale "
      ]
    },
    {
      "cell_type": "code",
      "metadata": {
        "id": "WCB93V9wOc2z"
      },
      "source": [
        "from matplotlib import pyplot as plt\n"
      ],
      "execution_count": 21,
      "outputs": []
    },
    {
      "cell_type": "code",
      "metadata": {
        "colab": {
          "base_uri": "https://localhost:8080/",
          "height": 468
        },
        "id": "leUPuGZpPsoR",
        "outputId": "965559d2-dfb4-404b-ffe0-5141d4fc7862"
      },
      "source": [
        "cleaned_df.groupby('Location')['Location'].count().plot(kind = 'bar',title = 'Amounts of Properties for Sale')\n"
      ],
      "execution_count": 22,
      "outputs": [
        {
          "output_type": "execute_result",
          "data": {
            "text/plain": [
              "<matplotlib.axes._subplots.AxesSubplot at 0x7f8a8d5bc190>"
            ]
          },
          "metadata": {},
          "execution_count": 22
        },
        {
          "output_type": "display_data",
          "data": {
            "image/png": "[encoded data removed]",
            "text/plain": [
              "<Figure size 432x288 with 1 Axes>"
            ]
          },
          "metadata": {
            "needs_background": "light"
          }
        }
      ]
    },
    {
      "cell_type": "markdown",
      "metadata": {
        "id": "3J4OpuiBXect"
      },
      "source": [
        "From the above chart we can see that Tsuen Kwan O is having the most amount of properties for sale "
      ]
    },
    {
      "cell_type": "markdown",
      "metadata": {
        "id": "FmXcQcafYEDc"
      },
      "source": [
        "Then I want to know the average HKD/sq. ft. of each locations\n",
        "\n",
        "\n"
      ]
    },
    {
      "cell_type": "code",
      "metadata": {
        "colab": {
          "base_uri": "https://localhost:8080/",
          "height": 468
        },
        "id": "4kBYKqAvYDOE",
        "outputId": "a12ba3af-7845-4d9a-a3b0-a3d3d5d55e85"
      },
      "source": [
        "cleaned_df.groupby('Location')['HKD/sq.ft'].mean().plot(kind = 'bar',title = 'Average unit price')"
      ],
      "execution_count": 23,
      "outputs": [
        {
          "output_type": "execute_result",
          "data": {
            "text/plain": [
              "<matplotlib.axes._subplots.AxesSubplot at 0x7f8a8664a4d0>"
            ]
          },
          "metadata": {},
          "execution_count": 23
        },
        {
          "output_type": "display_data",
          "data": {
            "image/png": "[encoded data removed]",
            "text/plain": [
              "<Figure size 432x288 with 1 Axes>"
            ]
          },
          "metadata": {
            "needs_background": "light"
          }
        }
      ]
    },
    {
      "cell_type": "code",
      "metadata": {
        "id": "EE3gM11_iA4o"
      },
      "source": [
        "grouped = cleaned_df.groupby('Location')['HKD/sq.ft'].mean().reset_index()\n",
        "grouped.sort_values('HKD/sq.ft', ascending=False).reset_index()\n",
        "#Rank the location those with higher unit price will have a biggest rank - might be used in the next stage \n",
        "grouped['Rank']  = grouped['HKD/sq.ft'].rank(ascending=1)\n",
        "\n",
        "#Join two table \n",
        "cleaned_df = cleaned_df.merge(grouped, on='Location', how='left')"
      ],
      "execution_count": 24,
      "outputs": []
    },
    {
      "cell_type": "code",
      "metadata": {
        "colab": {
          "base_uri": "https://localhost:8080/",
          "height": 424
        },
        "id": "MuRxKjobnsD0",
        "outputId": "34414393-cce6-4187-b806-c113ae7c352f"
      },
      "source": [
        "cleaned_df"
      ],
      "execution_count": 25,
      "outputs": [
        {
          "output_type": "execute_result",
          "data": {
            "text/html": [
              "<div>\n",
              "<style scoped>\n",
              "    .dataframe tbody tr th:only-of-type {\n",
              "        vertical-align: middle;\n",
              "    }\n",
              "\n",
              "    .dataframe tbody tr th {\n",
              "        vertical-align: top;\n",
              "    }\n",
              "\n",
              "    .dataframe thead th {\n",
              "        text-align: right;\n",
              "    }\n",
              "</style>\n",
              "<table border=\"1\" class=\"dataframe\">\n",
              "  <thead>\n",
              "    <tr style=\"text-align: right;\">\n",
              "      <th></th>\n",
              "      <th>Size(sq.ft)</th>\n",
              "      <th>Size(m2)</th>\n",
              "      <th>Location</th>\n",
              "      <th>Price(HKD)</th>\n",
              "      <th>Price(USD)</th>\n",
              "      <th>HKD/sq.ft_x</th>\n",
              "      <th>HKD/sq.ft_y</th>\n",
              "      <th>Rank</th>\n",
              "    </tr>\n",
              "  </thead>\n",
              "  <tbody>\n",
              "    <tr>\n",
              "      <th>0</th>\n",
              "      <td>5868.0</td>\n",
              "      <td>545.15</td>\n",
              "      <td>KOWLOON TONG, HONG KONG</td>\n",
              "      <td>178000000.0</td>\n",
              "      <td>22830813.0</td>\n",
              "      <td>30334.01</td>\n",
              "      <td>19312.586429</td>\n",
              "      <td>16.0</td>\n",
              "    </tr>\n",
              "    <tr>\n",
              "      <th>1</th>\n",
              "      <td>2720.0</td>\n",
              "      <td>252.69</td>\n",
              "      <td>SHA TIN, HONG KONG</td>\n",
              "      <td>85000000.0</td>\n",
              "      <td>10902355.0</td>\n",
              "      <td>31250.00</td>\n",
              "      <td>16864.831921</td>\n",
              "      <td>12.0</td>\n",
              "    </tr>\n",
              "    <tr>\n",
              "      <th>2</th>\n",
              "      <td>2182.0</td>\n",
              "      <td>202.71</td>\n",
              "      <td>SHA TIN, HONG KONG</td>\n",
              "      <td>69500000.0</td>\n",
              "      <td>8914278.0</td>\n",
              "      <td>31851.51</td>\n",
              "      <td>16864.831921</td>\n",
              "      <td>12.0</td>\n",
              "    </tr>\n",
              "    <tr>\n",
              "      <th>3</th>\n",
              "      <td>1764.0</td>\n",
              "      <td>163.88</td>\n",
              "      <td>KOWLOON TONG, HONG KONG</td>\n",
              "      <td>57000000.0</td>\n",
              "      <td>7310991.0</td>\n",
              "      <td>32312.93</td>\n",
              "      <td>19312.586429</td>\n",
              "      <td>16.0</td>\n",
              "    </tr>\n",
              "    <tr>\n",
              "      <th>4</th>\n",
              "      <td>1837.0</td>\n",
              "      <td>170.66</td>\n",
              "      <td>SAI KUNG, HONG KONG</td>\n",
              "      <td>51800000.0</td>\n",
              "      <td>6644023.0</td>\n",
              "      <td>28198.15</td>\n",
              "      <td>21764.170000</td>\n",
              "      <td>19.0</td>\n",
              "    </tr>\n",
              "    <tr>\n",
              "      <th>...</th>\n",
              "      <td>...</td>\n",
              "      <td>...</td>\n",
              "      <td>...</td>\n",
              "      <td>...</td>\n",
              "      <td>...</td>\n",
              "      <td>...</td>\n",
              "      <td>...</td>\n",
              "      <td>...</td>\n",
              "    </tr>\n",
              "    <tr>\n",
              "      <th>964</th>\n",
              "      <td>349.0</td>\n",
              "      <td>32.42</td>\n",
              "      <td>TAI PO, HONG KONG</td>\n",
              "      <td>2230000.0</td>\n",
              "      <td>286026.0</td>\n",
              "      <td>6389.68</td>\n",
              "      <td>12065.333678</td>\n",
              "      <td>3.0</td>\n",
              "    </tr>\n",
              "    <tr>\n",
              "      <th>965</th>\n",
              "      <td>286.0</td>\n",
              "      <td>26.57</td>\n",
              "      <td>TAI PO, HONG KONG</td>\n",
              "      <td>2100000.0</td>\n",
              "      <td>269352.0</td>\n",
              "      <td>7342.66</td>\n",
              "      <td>12065.333678</td>\n",
              "      <td>3.0</td>\n",
              "    </tr>\n",
              "    <tr>\n",
              "      <th>966</th>\n",
              "      <td>349.0</td>\n",
              "      <td>32.42</td>\n",
              "      <td>TAI PO, HONG KONG</td>\n",
              "      <td>2000000.0</td>\n",
              "      <td>256526.0</td>\n",
              "      <td>5730.66</td>\n",
              "      <td>12065.333678</td>\n",
              "      <td>3.0</td>\n",
              "    </tr>\n",
              "    <tr>\n",
              "      <th>967</th>\n",
              "      <td>355.0</td>\n",
              "      <td>32.98</td>\n",
              "      <td>TAI PO, HONG KONG</td>\n",
              "      <td>1750000.0</td>\n",
              "      <td>224460.0</td>\n",
              "      <td>4929.58</td>\n",
              "      <td>12065.333678</td>\n",
              "      <td>3.0</td>\n",
              "    </tr>\n",
              "    <tr>\n",
              "      <th>968</th>\n",
              "      <td>234.0</td>\n",
              "      <td>21.74</td>\n",
              "      <td>TAI PO, HONG KONG</td>\n",
              "      <td>1000000.0</td>\n",
              "      <td>128263.0</td>\n",
              "      <td>4273.50</td>\n",
              "      <td>12065.333678</td>\n",
              "      <td>3.0</td>\n",
              "    </tr>\n",
              "  </tbody>\n",
              "</table>\n",
              "<p>969 rows × 8 columns</p>\n",
              "</div>"
            ],
            "text/plain": [
              "     Size(sq.ft)  Size(m2)  ...   HKD/sq.ft_y  Rank\n",
              "0         5868.0    545.15  ...  19312.586429  16.0\n",
              "1         2720.0    252.69  ...  16864.831921  12.0\n",
              "2         2182.0    202.71  ...  16864.831921  12.0\n",
              "3         1764.0    163.88  ...  19312.586429  16.0\n",
              "4         1837.0    170.66  ...  21764.170000  19.0\n",
              "..           ...       ...  ...           ...   ...\n",
              "964        349.0     32.42  ...  12065.333678   3.0\n",
              "965        286.0     26.57  ...  12065.333678   3.0\n",
              "966        349.0     32.42  ...  12065.333678   3.0\n",
              "967        355.0     32.98  ...  12065.333678   3.0\n",
              "968        234.0     21.74  ...  12065.333678   3.0\n",
              "\n",
              "[969 rows x 8 columns]"
            ]
          },
          "metadata": {},
          "execution_count": 25
        }
      ]
    },
    {
      "cell_type": "markdown",
      "metadata": {
        "id": "wMdYmbg9aGFf"
      },
      "source": [
        "We can see that Causeway Bay has the highest average unit price"
      ]
    },
    {
      "cell_type": "code",
      "metadata": {
        "colab": {
          "base_uri": "https://localhost:8080/",
          "height": 307
        },
        "id": "7pnocIWlaFO3",
        "outputId": "3f0bc5b6-1f21-4432-a487-b565254c8f0f"
      },
      "source": [
        "plt.scatter(cleaned_df['Size(sq.ft)'],cleaned_df['Price(HKD)'])\n",
        "plt.xlabel('Size(sq.ft.)')\n",
        "plt.ylabel('Price(HKD)')\n"
      ],
      "execution_count": 26,
      "outputs": [
        {
          "output_type": "execute_result",
          "data": {
            "text/plain": [
              "Text(0, 0.5, 'Price(HKD)')"
            ]
          },
          "metadata": {},
          "execution_count": 26
        },
        {
          "output_type": "display_data",
          "data": {
            "image/png": "[encoded data removed]",
            "text/plain": [
              "<Figure size 432x288 with 1 Axes>"
            ]
          },
          "metadata": {
            "needs_background": "light"
          }
        }
      ]
    },
    {
      "cell_type": "markdown",
      "metadata": {
        "id": "bu9CixKdcgpi"
      },
      "source": [
        "From the above, we can tell that size and price are having postive linear relationship"
      ]
    },
    {
      "cell_type": "markdown",
      "metadata": {
        "id": "RwLfUFylc0go"
      },
      "source": [
        "**Data Analysis**\n",
        "In the Final Stage, I will use Linear regression to exam whether the size and location(rank) affect the price or not "
      ]
    },
    {
      "cell_type": "code",
      "metadata": {
        "id": "mpT_sHomczhT"
      },
      "source": [
        "from sklearn.model_selection import train_test_split\n",
        "from sklearn.linear_model import LinearRegression"
      ],
      "execution_count": 27,
      "outputs": []
    },
    {
      "cell_type": "code",
      "metadata": {
        "id": "nWPAF0l1sD-b"
      },
      "source": [
        ""
      ],
      "execution_count": null,
      "outputs": []
    },
    {
      "cell_type": "code",
      "metadata": {
        "id": "FHdqc-hlq4Va"
      },
      "source": [
        "x = cleaned_df['Rank']\n",
        "y = cleaned_df['HKD/sq.ft_x']"
      ],
      "execution_count": 28,
      "outputs": []
    },
    {
      "cell_type": "markdown",
      "metadata": {
        "id": "FjPwPfeTrOqL"
      },
      "source": [
        ""
      ]
    },
    {
      "cell_type": "code",
      "metadata": {
        "id": "nBCIXFcCr3aK"
      },
      "source": [
        "x_train, x_test, y_train, y_test = train_test_split(x, y, train_size = 0.8, test_size = 0.2, random_state=6)\n",
        "x_train= x_train.values.reshape(-1, 1)\n",
        "y_train= y_train.values.reshape(-1, 1)\n",
        "x_test = x_test.values.reshape(-1, 1)"
      ],
      "execution_count": 29,
      "outputs": []
    },
    {
      "cell_type": "code",
      "metadata": {
        "id": "BI5tVzHrr9Kp"
      },
      "source": [
        "lm = LinearRegression()\n",
        "\n",
        "model = lm.fit(x_train, y_train)\n",
        "\n",
        "y_predict = lm.predict(x_test)"
      ],
      "execution_count": 30,
      "outputs": []
    },
    {
      "cell_type": "code",
      "metadata": {
        "colab": {
          "base_uri": "https://localhost:8080/",
          "height": 279
        },
        "id": "BBpaqxoEr98I",
        "outputId": "93d70b90-6d74-4e72-c2b1-6947834982a1"
      },
      "source": [
        "plt.scatter(y_test,y_predict,alpha = 0.4)\n",
        "plt.xlabel(\"the actual  prices\")\n",
        "plt.ylabel(\"the predicted  prices\")\n",
        "plt.show()"
      ],
      "execution_count": 31,
      "outputs": [
        {
          "output_type": "display_data",
          "data": {
            "image/png": "[encoded data removed]",
            "text/plain": [
              "<Figure size 432x288 with 1 Axes>"
            ]
          },
          "metadata": {
            "needs_background": "light"
          }
        }
      ]
    },
    {
      "cell_type": "code",
      "metadata": {
        "colab": {
          "base_uri": "https://localhost:8080/"
        },
        "id": "ipP4TJ6RsE3D",
        "outputId": "f2553167-1e19-47c6-b630-6b7f6d80bfc2"
      },
      "source": [
        "print(\"Train score:\")\n",
        "print(lm.score(x_train, y_train))\n",
        "\n",
        "print('Test score:')\n",
        "print(lm.score(x_test,y_test))\n"
      ],
      "execution_count": 32,
      "outputs": [
        {
          "output_type": "stream",
          "name": "stdout",
          "text": [
            "Train score:\n",
            "0.3798839378338096\n",
            "Test score:\n",
            "0.35259659844465585\n"
          ]
        }
      ]
    },
    {
      "cell_type": "markdown",
      "metadata": {
        "id": "WoqqGxsm2m4O"
      },
      "source": [
        "We can tell that the location provided can not estimate the unit price of properties of different areas.\n",
        "This is because unit price is determined by other features as well like the age of property and the quality of facilities.\n",
        "Therefore,properties in different courts will have big difference in unit price although they are in same area."
      ]
    },
    {
      "cell_type": "markdown",
      "metadata": {
        "id": "6AY3H0rE6RJz"
      },
      "source": [
        "In conculsion, if we want to estimate the unit price of a property more accuaretly, we need to collect more features of properties."
      ]
    },
    {
      "cell_type": "markdown",
      "metadata": {
        "id": "AM9DxF2lFS_g"
      },
      "source": [
        "Lets save the dataframe as xlsx file "
      ]
    },
    {
      "cell_type": "code",
      "metadata": {
        "colab": {
          "base_uri": "https://localhost:8080/"
        },
        "id": "YsmP0y-RurvX",
        "outputId": "e28acc9a-e9aa-458e-ff54-3c275133d91c"
      },
      "source": [
        "pip install xlsxwriter"
      ],
      "execution_count": 33,
      "outputs": [
        {
          "output_type": "stream",
          "name": "stdout",
          "text": [
            "Collecting xlsxwriter\n",
            "  Downloading XlsxWriter-3.0.2-py3-none-any.whl (149 kB)\n",
            "\u001b[?25l\r\u001b[K     |██▏                             | 10 kB 19.0 MB/s eta 0:00:01\r\u001b[K     |████▍                           | 20 kB 26.2 MB/s eta 0:00:01\r\u001b[K     |██████▋                         | 30 kB 23.6 MB/s eta 0:00:01\r\u001b[K     |████████▊                       | 40 kB 17.5 MB/s eta 0:00:01\r\u001b[K     |███████████                     | 51 kB 16.2 MB/s eta 0:00:01\r\u001b[K     |█████████████▏                  | 61 kB 11.1 MB/s eta 0:00:01\r\u001b[K     |███████████████▎                | 71 kB 12.4 MB/s eta 0:00:01\r\u001b[K     |█████████████████▌              | 81 kB 13.8 MB/s eta 0:00:01\r\u001b[K     |███████████████████▊            | 92 kB 14.1 MB/s eta 0:00:01\r\u001b[K     |█████████████████████▉          | 102 kB 13.9 MB/s eta 0:00:01\r\u001b[K     |████████████████████████        | 112 kB 13.9 MB/s eta 0:00:01\r\u001b[K     |██████████████████████████▎     | 122 kB 13.9 MB/s eta 0:00:01\r\u001b[K     |████████████████████████████▍   | 133 kB 13.9 MB/s eta 0:00:01\r\u001b[K     |██████████████████████████████▋ | 143 kB 13.9 MB/s eta 0:00:01\r\u001b[K     |████████████████████████████████| 149 kB 13.9 MB/s \n",
            "\u001b[?25hInstalling collected packages: xlsxwriter\n",
            "Successfully installed xlsxwriter-3.0.2\n"
          ]
        }
      ]
    },
    {
      "cell_type": "code",
      "metadata": {
        "id": "jdlo8bmVq7_i"
      },
      "source": [
        "import xlsxwriter\n",
        "writer_obj = pd.ExcelWriter('Property_Jupyter.xlsx',\n",
        "                            engine='xlsxwriter')\n",
        "\n",
        "cleaned_df.to_excel(writer_obj, sheet_name='Sheet')\n",
        "\n",
        "writer_obj.save()"
      ],
      "execution_count": 34,
      "outputs": []
    },
    {
      "cell_type": "code",
      "metadata": {
        "colab": {
          "base_uri": "https://localhost:8080/",
          "height": 17
        },
        "id": "8FzfwoJIwS9l",
        "outputId": "6c476698-4603-4198-b412-a92baf04cf7c"
      },
      "source": [
        "from google.colab import files\n",
        "\n",
        "files.download('Property_Jupyter.xlsx')"
      ],
      "execution_count": 35,
      "outputs": [
        {
          "output_type": "display_data",
          "data": {
            "application/javascript": [
              "\n",
              "    async function download(id, filename, size) {\n",
              "      if (!google.colab.kernel.accessAllowed) {\n",
              "        return;\n",
              "      }\n",
              "      const div = document.createElement('div');\n",
              "      const label = document.createElement('label');\n",
              "      label.textContent = `Downloading \"${filename}\": `;\n",
              "      div.appendChild(label);\n",
              "      const progress = document.createElement('progress');\n",
              "      progress.max = size;\n",
              "      div.appendChild(progress);\n",
              "      document.body.appendChild(div);\n",
              "\n",
              "      const buffers = [];\n",
              "      let downloaded = 0;\n",
              "\n",
              "      const channel = await google.colab.kernel.comms.open(id);\n",
              "      // Send a message to notify the kernel that we're ready.\n",
              "      channel.send({})\n",
              "\n",
              "      for await (const message of channel.messages) {\n",
              "        // Send a message to notify the kernel that we're ready.\n",
              "        channel.send({})\n",
              "        if (message.buffers) {\n",
              "          for (const buffer of message.buffers) {\n",
              "            buffers.push(buffer);\n",
              "            downloaded += buffer.byteLength;\n",
              "            progress.value = downloaded;\n",
              "          }\n",
              "        }\n",
              "      }\n",
              "      const blob = new Blob(buffers, {type: 'application/binary'});\n",
              "      const a = document.createElement('a');\n",
              "      a.href = window.URL.createObjectURL(blob);\n",
              "      a.download = filename;\n",
              "      div.appendChild(a);\n",
              "      a.click();\n",
              "      div.remove();\n",
              "    }\n",
              "  "
            ],
            "text/plain": [
              "<IPython.core.display.Javascript object>"
            ]
          },
          "metadata": {}
        },
        {
          "output_type": "display_data",
          "data": {
            "application/javascript": [
              "download(\"download_728f76ed-f3c4-43b9-9d61-756e22d13606\", \"Property_Jupyter.xlsx\", 49108)"
            ],
            "text/plain": [
              "<IPython.core.display.Javascript object>"
            ]
          },
          "metadata": {}
        }
      ]
    }
  ]
}